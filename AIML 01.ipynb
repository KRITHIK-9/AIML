{
  "nbformat": 4,
  "nbformat_minor": 0,
  "metadata": {
    "colab": {
      "provenance": []
    },
    "kernelspec": {
      "name": "python3",
      "display_name": "Python 3"
    },
    "language_info": {
      "name": "python"
    }
  },
  "cells": [
    {
      "cell_type": "code",
      "execution_count": 3,
      "metadata": {
        "colab": {
          "base_uri": "https://localhost:8080/",
          "height": 106
        },
        "id": "qmmeEXD-riCZ",
        "outputId": "f68d6b44-84af-45c3-d764-4825b8c9628d"
      },
      "outputs": [
        {
          "output_type": "error",
          "ename": "SyntaxError",
          "evalue": "incomplete input (<ipython-input-3-b0565cc7dc72>, line 92)",
          "traceback": [
            "\u001b[0;36m  File \u001b[0;32m\"<ipython-input-3-b0565cc7dc72>\"\u001b[0;36m, line \u001b[0;32m92\u001b[0m\n\u001b[0;31m    'A':\u001b[0m\n\u001b[0m        ^\u001b[0m\n\u001b[0;31mSyntaxError\u001b[0m\u001b[0;31m:\u001b[0m incomplete input\n"
          ]
        }
      ],
      "source": [
        "import heapq\n",
        "\n",
        "def bfs(graph, start, goal):\n",
        "    queue = [(start, [start])]\n",
        "    while queue:\n",
        "        (vertex, path) = queue.pop(0)\n",
        "        for next_node in graph[vertex] - set(path):\n",
        "            if next_node == goal:\n",
        "                return path + [next_node]\n",
        "            else:\n",
        "                queue.append((next_node, path + [next_node]))\n",
        "    return None\n",
        "\n",
        "def a_star(graph, start, goal, h):\n",
        "    queue = []\n",
        "    heapq.heappush(queue, (0, start, [start]))\n",
        "    visited = set()\n",
        "    while queue:\n",
        "        (cost, vertex, path) = heapq.heappop(queue)\n",
        "        if vertex in visited:\n",
        "            continue\n",
        "        if vertex == goal:\n",
        "            return path\n",
        "        visited.add(vertex)\n",
        "        for next_node, weight in graph[vertex].items():\n",
        "            if next_node not in visited:\n",
        "                new_cost = cost + weight + h(next_node, goal)\n",
        "                heapq.heappush(queue, (new_cost, next_node, path + [next_node]))\n",
        "    return None\n",
        "\n",
        "def constant_heuristic(node, goal):\n",
        "    return 0\n",
        "\n",
        "def minimax(position, depth, maximizing_player):\n",
        "    if depth == 0 or is_terminal(position):\n",
        "        return evaluate(position)\n",
        "    if maximizing_player:\n",
        "        max_eval = float('-inf')\n",
        "        for child in get_children(position):\n",
        "            eval = minimax(child, depth - 1, False)\n",
        "            max_eval = max(max_eval, eval)\n",
        "        return max_eval\n",
        "    else:\n",
        "        min_eval = float('inf')\n",
        "        for child in get_children(position):\n",
        "            eval = minimax(child, depth - 1, True)\n",
        "            min_eval = min(min_eval, eval)\n",
        "        return min_eval\n",
        "\n",
        "def is_terminal(position):\n",
        "  win_conditions = [\n",
        "      [0, 1, 2], [3, 4, 5], [6, 7, 8],\n",
        "      [0, 3, 6], [1, 4, 7], [2, 5, 8],\n",
        "      [0, 4, 8], [2, 4, 6]\n",
        "  ]\n",
        "  for condition in win_conditions:\n",
        "      if all(position[i] == 'X' for i in condition) or all(position[i] == 'O' for i in condition):\n",
        "          return True\n",
        "  if all(x != ' ' for x in position):\n",
        "      return True\n",
        "  return False\n",
        "\n",
        "def evaluate(position):\n",
        "  if is_terminal(position):\n",
        "      if any(all(position[i] == 'X' for i in condition) for condition in [[0, 1, 2], [3, 4, 5], [6, 7, 8], [0, 3, 6], [1, 4, 7], [2, 5, 8], [0, 4, 8], [2, 4, 6]]):\n",
        "          return 1\n",
        "      elif any(all(position[i] == 'O' for i in condition) for condition in [[0, 1, 2], [3, 4, 5], [6, 7, 8], [0, 3, 6], [1, 4, 7], [2, 5, 8], [0, 4, 8], [2, 4, 6]]):\n",
        "          return -1\n",
        "      else:\n",
        "          return 0\n",
        "  return 0\n",
        "\n",
        "def get_children(position):\n",
        "  children = []\n",
        "  for i in range(9):\n",
        "      if position[i] == ' ':\n",
        "          child = position[:i] + ('X' if position.count('X') == position.count('O') else 'O') + position[i+1:]\n",
        "          children.append(child)\n",
        "  return children\n",
        "\n",
        "if __name__ == \"__main__\":\n",
        "    graph_bfs = {\n",
        "        'A': {'B', 'C'},\n",
        "        'B': {'A', 'D', 'E'},\n",
        "        'C': {'A', 'F'},\n",
        "        'D': {'B'},\n",
        "        'E': {'B', 'F'},\n",
        "        'F': {'C', 'E'}\n",
        "    }\n",
        "\n",
        "    graph_a_star = {\n",
        "        'A':"
      ]
    }
  ]
}