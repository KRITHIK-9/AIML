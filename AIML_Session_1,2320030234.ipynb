{
  "nbformat": 4,
  "nbformat_minor": 0,
  "metadata": {
    "colab": {
      "provenance": [],
      "authorship_tag": "ABX9TyNKJxjwlkCQ0kerF87wIgHu",
      "include_colab_link": true
    },
    "kernelspec": {
      "name": "python3",
      "display_name": "Python 3"
    },
    "language_info": {
      "name": "python"
    }
  },
  "cells": [
    {
      "cell_type": "markdown",
      "metadata": {
        "id": "view-in-github",
        "colab_type": "text"
      },
      "source": [
        "<a href=\"https://colab.research.google.com/github/KRITHIK-9/AIML/blob/main/AIML_Session_1%2C2320030234.ipynb\" target=\"_parent\"><img src=\"https://colab.research.google.com/assets/colab-badge.svg\" alt=\"Open In Colab\"/></a>"
      ]
    },
    {
      "cell_type": "code",
      "execution_count": null,
      "metadata": {
        "colab": {
          "base_uri": "https://localhost:8080/"
        },
        "id": "8l2r__89sg7S",
        "outputId": "2d73960c-e1cc-401b-8cad-f1e558052962"
      },
      "outputs": [
        {
          "output_type": "stream",
          "name": "stdout",
          "text": [
            "P80\n",
            "T45\n",
            "R78\n",
            "2808\n"
          ]
        }
      ],
      "source": [
        "p=int(input(\"P\"))\n",
        "t=int(input(\"T\"))\n",
        "r=int(input(\"R\"))\n",
        "s=(p*t*r)/100\n",
        "print(s)"
      ]
    },
    {
      "cell_type": "code",
      "source": [
        "r=int(input(\"radius \"))\n",
        "a=3.14*r**2\n",
        "print(a)\n"
      ],
      "metadata": {
        "colab": {
          "base_uri": "https://localhost:8080/"
        },
        "id": "7_-jm7ImvDNx",
        "outputId": "076892a5-35e0-43ae-bfd9-d90642f95366"
      },
      "execution_count": null,
      "outputs": [
        {
          "output_type": "stream",
          "name": "stdout",
          "text": [
            "radius 5\n",
            "78.5\n"
          ]
        }
      ]
    },
    {
      "cell_type": "code",
      "source": [
        "list=[\"apple\",\"banana\",\"cherry\"]\n",
        "# print(len(list))\n",
        "# print(type(list))\n",
        "# print(list[1])\n",
        "# print(list[0:3])\n",
        "# if \"apple\" in list:\n",
        "#   print(\"YES\")\n",
        "list[0:4] = [\"orange\",\"berry\",\"guava\"]\n",
        "print(list)\n",
        "list.append(\"apple\")\n",
        "del list[2]\n",
        "list.pop(0)\n",
        "print(list)"
      ],
      "metadata": {
        "colab": {
          "base_uri": "https://localhost:8080/"
        },
        "id": "OkwWrr9ovhll",
        "outputId": "f68c5f67-4f6e-431f-e44e-13652d486313"
      },
      "execution_count": null,
      "outputs": [
        {
          "output_type": "stream",
          "name": "stdout",
          "text": [
            "['orange', 'berry', 'guava']\n",
            "['berry', 'apple']\n"
          ]
        }
      ]
    }
  ]
}